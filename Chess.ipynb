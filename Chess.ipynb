{
 "cells": [
  {
   "cell_type": "markdown",
   "metadata": {},
   "source": [
    "# Demonstration of the chess game.\n",
    "This notebook demonstrates the basic usage of the chess game implementation. In particular, the following is demonstrated:\n",
    "- How the game is modelled.\n",
    "- How to play the game using the GameController.\n",
    "- How to obtain a deep copy of the full game state and go on playing in a different branch."
   ]
  },
  {
   "cell_type": "code",
   "execution_count": 1,
   "metadata": {},
   "outputs": [],
   "source": [
    "from chess import Game, GameController\n",
    "# Init the game\n",
    "ctl = GameController()\n",
    "game = ctl.game"
   ]
  },
  {
   "cell_type": "markdown",
   "metadata": {},
   "source": [
    "# Initial game situation"
   ]
  },
  {
   "cell_type": "code",
   "execution_count": 2,
   "metadata": {},
   "outputs": [
    {
     "name": "stdout",
     "output_type": "stream",
     "text": [
      " o . . . . . . o\n",
      " . . . . . . . .\n",
      " . . . . . . . .\n",
      " . . . . . . . .\n",
      " . . . . . . . .\n",
      " . . . . . . . .\n",
      " . . . . . . . .\n",
      " x . . . . . . x\n",
      "Active Player: white\n",
      "Winner: None\n"
     ]
    }
   ],
   "source": [
    "print(game.status())"
   ]
  },
  {
   "cell_type": "code",
   "execution_count": 3,
   "metadata": {},
   "outputs": [
    {
     "data": {
      "text/plain": [
       "<chess.chess.Player at 0x108848910>"
      ]
     },
     "execution_count": 3,
     "metadata": {},
     "output_type": "execute_result"
    }
   ],
   "source": [
    "game.activePlayer"
   ]
  },
  {
   "cell_type": "code",
   "execution_count": 4,
   "metadata": {},
   "outputs": [
    {
     "data": {
      "text/plain": [
       "False"
      ]
     },
     "execution_count": 4,
     "metadata": {},
     "output_type": "execute_result"
    }
   ],
   "source": [
    "game.is_finished()"
   ]
  },
  {
   "cell_type": "code",
   "execution_count": 5,
   "metadata": {},
   "outputs": [
    {
     "data": {
      "text/plain": [
       "[<chess.chess.Player at 0x108848910>, <chess.chess.Player at 0x1088488d0>]"
      ]
     },
     "execution_count": 5,
     "metadata": {},
     "output_type": "execute_result"
    }
   ],
   "source": [
    "game.players"
   ]
  },
  {
   "cell_type": "code",
   "execution_count": 6,
   "metadata": {},
   "outputs": [
    {
     "name": "stdout",
     "output_type": "stream",
     "text": [
      "<chess.chess.Rook object at 0x108a57d50>\n",
      "A1\n",
      "<chess.chess.Rook object at 0x108a57d90>\n",
      "H1\n"
     ]
    }
   ],
   "source": [
    "for piece in game.activePlayer.pieces:\n",
    "    print(piece)\n",
    "    print(piece.field.name)"
   ]
  },
  {
   "cell_type": "markdown",
   "metadata": {},
   "source": [
    "# Determine possible moves."
   ]
  },
  {
   "cell_type": "code",
   "execution_count": 7,
   "metadata": {},
   "outputs": [
    {
     "name": "stdout",
     "output_type": "stream",
     "text": [
      " . x x x x x x x\n",
      " . x x x x x x x\n",
      " . x x x x x x x\n",
      " . x x x x x x x\n",
      " . x x x x x x x\n",
      " . x x x x x x x\n",
      " . x x x x x x x\n",
      " o . . . . . . x\n",
      "\n"
     ]
    }
   ],
   "source": [
    "piece = game.activePlayer.pieces[0]\n",
    "# Display possible moves of this piece.\n",
    "ctl.print_possible_moves(piece)"
   ]
  },
  {
   "cell_type": "code",
   "execution_count": 8,
   "metadata": {},
   "outputs": [
    {
     "data": {
      "text/plain": [
       "[<chess.chess.Field at 0x108adde90>,\n",
       " <chess.chess.Field at 0x108adde10>,\n",
       " <chess.chess.Field at 0x108addd90>,\n",
       " <chess.chess.Field at 0x108addcd0>,\n",
       " <chess.chess.Field at 0x108add950>,\n",
       " <chess.chess.Field at 0x108add750>,\n",
       " <chess.chess.Field at 0x108848fd0>,\n",
       " <chess.chess.Field at 0x108addf10>,\n",
       " <chess.chess.Field at 0x108a4e390>,\n",
       " <chess.chess.Field at 0x108a4e7d0>,\n",
       " <chess.chess.Field at 0x108a4ec10>,\n",
       " <chess.chess.Field at 0x108a570d0>,\n",
       " <chess.chess.Field at 0x108a57510>]"
      ]
     },
     "execution_count": 8,
     "metadata": {},
     "output_type": "execute_result"
    }
   ],
   "source": [
    "# Get all possible moves for the piece.\n",
    "ctl.get_possible_piece_moves(piece)"
   ]
  },
  {
   "cell_type": "code",
   "execution_count": 9,
   "metadata": {},
   "outputs": [
    {
     "data": {
      "text/plain": [
       "[(<chess.chess.Rook at 0x108a57d50>,\n",
       "  [<chess.chess.Field at 0x108adde90>,\n",
       "   <chess.chess.Field at 0x108adde10>,\n",
       "   <chess.chess.Field at 0x108addd90>,\n",
       "   <chess.chess.Field at 0x108addcd0>,\n",
       "   <chess.chess.Field at 0x108add950>,\n",
       "   <chess.chess.Field at 0x108add750>,\n",
       "   <chess.chess.Field at 0x108848fd0>,\n",
       "   <chess.chess.Field at 0x108addf10>,\n",
       "   <chess.chess.Field at 0x108a4e390>,\n",
       "   <chess.chess.Field at 0x108a4e7d0>,\n",
       "   <chess.chess.Field at 0x108a4ec10>,\n",
       "   <chess.chess.Field at 0x108a570d0>,\n",
       "   <chess.chess.Field at 0x108a57510>]),\n",
       " (<chess.chess.Rook at 0x108a57d90>,\n",
       "  [<chess.chess.Field at 0x108a57d10>,\n",
       "   <chess.chess.Field at 0x108a57c90>,\n",
       "   <chess.chess.Field at 0x108a57c10>,\n",
       "   <chess.chess.Field at 0x108a57b50>,\n",
       "   <chess.chess.Field at 0x108a57ad0>,\n",
       "   <chess.chess.Field at 0x108a57a50>,\n",
       "   <chess.chess.Field at 0x108a579d0>,\n",
       "   <chess.chess.Field at 0x108addf10>,\n",
       "   <chess.chess.Field at 0x108a4e390>,\n",
       "   <chess.chess.Field at 0x108a4e7d0>,\n",
       "   <chess.chess.Field at 0x108a4ec10>,\n",
       "   <chess.chess.Field at 0x108a570d0>,\n",
       "   <chess.chess.Field at 0x108a57510>])]"
      ]
     },
     "execution_count": 9,
     "metadata": {},
     "output_type": "execute_result"
    }
   ],
   "source": [
    "# Get all possible moves for the active player.\n",
    "# It does not make any sense to do this for the non-active player,\n",
    "# since at his turn the game (and his possible moves) will have changed.\n",
    "ctl.get_possible_moves()"
   ]
  },
  {
   "cell_type": "markdown",
   "metadata": {},
   "source": [
    "# Play a game.\n",
    "We play a full game. At a certain point, we make a deep-copy of the GameController. This allows us to play another branch of the game at a later point."
   ]
  },
  {
   "cell_type": "code",
   "execution_count": 10,
   "metadata": {},
   "outputs": [
    {
     "name": "stdout",
     "output_type": "stream",
     "text": [
      "Moving to A8\n",
      "Beaten piece\n",
      " x . . . . . . o\n",
      " . . . . . . . .\n",
      " . . . . . . . .\n",
      " . . . . . . . .\n",
      " . . . . . . . .\n",
      " . . . . . . . .\n",
      " . . . . . . . .\n",
      " . . . . . . . x\n",
      "Active Player: black\n",
      "Winner: None\n"
     ]
    }
   ],
   "source": [
    "target_field = ctl.get_possible_piece_moves(piece)[0]\n",
    "print(\"Moving to \" + target_field.name)\n",
    "\n",
    "ctl.move_piece(piece, target_field)\n",
    "print(game.status())"
   ]
  },
  {
   "cell_type": "code",
   "execution_count": 11,
   "metadata": {},
   "outputs": [
    {
     "name": "stdout",
     "output_type": "stream",
     "text": [
      " x o . . . . . .\n",
      " . . . . . . . .\n",
      " . . . . . . . .\n",
      " . . . . . . . .\n",
      " . . . . . . . .\n",
      " . . . . . . . .\n",
      " . . . . . . . .\n",
      " . . . . . . . x\n",
      "Active Player: white\n",
      "Winner: None\n"
     ]
    }
   ],
   "source": [
    "piece = game.activePlayer.pieces[0]\n",
    "target_field = game.board.fields[1][7]\n",
    "ctl.move_piece(piece, target_field)\n",
    "print(game.status())"
   ]
  },
  {
   "cell_type": "code",
   "execution_count": 12,
   "metadata": {},
   "outputs": [],
   "source": [
    "# Copy the game.\n",
    "ctl2 = ctl.get_deep_copy()"
   ]
  },
  {
   "cell_type": "code",
   "execution_count": 13,
   "metadata": {},
   "outputs": [
    {
     "name": "stdout",
     "output_type": "stream",
     "text": [
      "Beaten piece\n",
      "Game finished. Winner is white\n",
      " . x . . . . . .\n",
      " . . . . . . . .\n",
      " . . . . . . . .\n",
      " . . . . . . . .\n",
      " . . . . . . . .\n",
      " . . . . . . . .\n",
      " . . . . . . . .\n",
      " . . . . . . . x\n",
      "Active Player: black\n",
      "Winner: white\n"
     ]
    }
   ],
   "source": [
    "piece = game.activePlayer.pieces[0]\n",
    "target_field = game.board.fields[1][7]\n",
    "ctl.move_piece(piece, target_field)\n",
    "print(game.status())"
   ]
  },
  {
   "cell_type": "code",
   "execution_count": 14,
   "metadata": {},
   "outputs": [
    {
     "name": "stdout",
     "output_type": "stream",
     "text": [
      "Game is already finished.\n",
      " . x . . . . . .\n",
      " . . . . . . . .\n",
      " . . . . . . . .\n",
      " . . . . . . . .\n",
      " . . . . . . . .\n",
      " . . . . . . . .\n",
      " . . . . . . . .\n",
      " . . . . . . . x\n",
      "Active Player: black\n",
      "Winner: white\n"
     ]
    }
   ],
   "source": [
    "target_field = game.board.fields[0][7]\n",
    "ctl.move_piece(piece, target_field)\n",
    "print(game.status())"
   ]
  },
  {
   "cell_type": "markdown",
   "metadata": {},
   "source": [
    "# Go on playing in a different branch.\n",
    "Starting from the deep-copy we made from the GameController, we now do other moves than before."
   ]
  },
  {
   "cell_type": "code",
   "execution_count": 15,
   "metadata": {},
   "outputs": [],
   "source": [
    "game = ctl2.game"
   ]
  },
  {
   "cell_type": "code",
   "execution_count": 16,
   "metadata": {},
   "outputs": [
    {
     "name": "stdout",
     "output_type": "stream",
     "text": [
      " x o . . . . . .\n",
      " . . . . . . . .\n",
      " . . . . . . . .\n",
      " . . . . . . . .\n",
      " . . . . . . . .\n",
      " . . . . . . . .\n",
      " . . . . . . . .\n",
      " . . . . . . . x\n",
      "Active Player: white\n",
      "Winner: None\n"
     ]
    }
   ],
   "source": [
    "print(game.status())"
   ]
  },
  {
   "cell_type": "code",
   "execution_count": 17,
   "metadata": {},
   "outputs": [
    {
     "name": "stdout",
     "output_type": "stream",
     "text": [
      " . o . . . . . .\n",
      " . . . . . . . .\n",
      " . . . . . . . .\n",
      " . . . . . . . .\n",
      " . . . . . . . .\n",
      " . . . . . . . .\n",
      " . . . . . . . .\n",
      " x . . . . . . x\n",
      "Active Player: black\n",
      "Winner: None\n"
     ]
    }
   ],
   "source": [
    "piece = game.activePlayer.pieces[0]\n",
    "target_field = game.board.fields[0][0]\n",
    "ctl2.move_piece(piece, target_field)\n",
    "print(game.status())"
   ]
  },
  {
   "cell_type": "code",
   "execution_count": null,
   "metadata": {},
   "outputs": [],
   "source": []
  }
 ],
 "metadata": {
  "kernelspec": {
   "display_name": "Python 3",
   "language": "python",
   "name": "python3"
  },
  "language_info": {
   "codemirror_mode": {
    "name": "ipython",
    "version": 3
   },
   "file_extension": ".py",
   "mimetype": "text/x-python",
   "name": "python",
   "nbconvert_exporter": "python",
   "pygments_lexer": "ipython3",
   "version": "3.7.4"
  }
 },
 "nbformat": 4,
 "nbformat_minor": 2
}
